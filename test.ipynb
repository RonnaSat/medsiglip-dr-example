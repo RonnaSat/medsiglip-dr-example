{
 "cells": [
  {
   "cell_type": "code",
   "execution_count": null,
   "id": "002ca1c5",
   "metadata": {},
   "outputs": [],
   "source": [
    "%pip install pillow transformers torch huggingface_hub ipywidgets"
   ]
  },
  {
   "cell_type": "code",
   "execution_count": null,
   "id": "0a8c08c3",
   "metadata": {},
   "outputs": [],
   "source": [
    "from PIL import Image\n",
    "from transformers import AutoProcessor, AutoModel\n",
    "import torch\n",
    "\n",
    "device = \"mps\" if torch.backends.mps.is_available() else (\"cuda\" if torch.cuda.is_available() else \"cpu\")\n",
    "\n",
    "model = AutoModel.from_pretrained(\"google/medsiglip-448\").to(device)\n",
    "processor = AutoProcessor.from_pretrained(\"google/medsiglip-448\")\n",
    "\n",
    "def crop_and_resize(img, size=(448, 448)):\n",
    "    w, h = img.size\n",
    "    aspect = size[0] / size[1]\n",
    "    img_aspect = w / h\n",
    "\n",
    "    if img_aspect > aspect:\n",
    "        # Crop width\n",
    "        new_w = int(h * aspect)\n",
    "        left = (w - new_w) // 2\n",
    "        img = img.crop((left, 0, left + new_w, h))\n",
    "    else:\n",
    "        # Crop height\n",
    "        new_h = int(w / aspect)\n",
    "        top = (h - new_h) // 2\n",
    "        img = img.crop((0, top, w, top + new_h))\n",
    "    return img.resize(size, Image.BILINEAR)\n"
   ]
  },
  {
   "cell_type": "code",
   "execution_count": null,
   "id": "770c30bb",
   "metadata": {},
   "outputs": [],
   "source": [
    "image_names = [\"1.jpg\", \"2.jpg\"]\n",
    "imgs = [crop_and_resize(Image.open(name).convert(\"RGB\")) for name in image_names]\n",
    "\n",
    "texts = [\n",
    "    \"A fundus photograph of a healthy retina with no signs of diabetic retinopathy.\",\n",
    "    \"A fundus photograph showing mild non-proliferative diabetic retinopathy, characterized by a few microaneurysms.\",\n",
    "    \"A fundus photograph showing moderate non-proliferative diabetic retinopathy, with multiple microaneurysms, dot-blot hemorrhages, and cotton wool spots.\",\n",
    "    \"A fundus photograph showing severe non-proliferative diabetic retinopathy, with extensive hemorrhages, venous beading, or intraretinal microvascular abnormalities (IRMA).\",\n",
    "    \"A fundus photograph showing proliferative diabetic retinopathy, characterized by neovascularization (growth of new, abnormal blood vessels).\",\n",
    "]\n",
    "\n",
    "short_texts = [\n",
    "    \"No DR\",\n",
    "    \"Mild DR\",\n",
    "    \"Moderate DR\",\n",
    "    \"Severe DR\",\n",
    "    \"PDR\",\n",
    "]\n",
    "\n",
    "\n",
    "inputs = processor(text=texts, images=imgs, padding=\"max_length\", return_tensors=\"pt\").to(device)\n",
    "\n",
    "with torch.no_grad():\n",
    "    outputs = model(**inputs)\n",
    "\n",
    "logits_per_image = outputs.logits_per_image\n",
    "probs = torch.softmax(logits_per_image, dim=1)\n",
    "\n",
    "for n_img, img in enumerate(imgs):\n",
    "    display(img)\n",
    "    for i, label in enumerate(short_texts):\n",
    "        print(f\"{probs[n_img][i]:.2%} of '{label}'\")\n",
    "\n",
    "    max_prob, max_idx = torch.max(probs[n_img], dim=0)\n",
    "    print(f\"Predicted class: {short_texts[max_idx]} ({max_prob:.2%} confidence)\")\n",
    "    print(\"-\" * 40)\n"
   ]
  }
 ],
 "metadata": {
  "kernelspec": {
   "display_name": "google",
   "language": "python",
   "name": "python3"
  },
  "language_info": {
   "codemirror_mode": {
    "name": "ipython",
    "version": 3
   },
   "file_extension": ".py",
   "mimetype": "text/x-python",
   "name": "python",
   "nbconvert_exporter": "python",
   "pygments_lexer": "ipython3",
   "version": "3.12.11"
  }
 },
 "nbformat": 4,
 "nbformat_minor": 5
}
